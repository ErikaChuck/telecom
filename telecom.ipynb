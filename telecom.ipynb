{
 "cells": [
  {
   "cell_type": "markdown",
   "metadata": {},
   "source": [
    "# Telecomunicaciones: Identificar operadores ineficaces de la compañia CallMeMaybe"
   ]
  },
  {
   "cell_type": "markdown",
   "metadata": {},
   "source": [
    "Este análisis busca identificar a los operadores menos eficaces utilizando datos históricos de llamadas. Mediante un análisis exploratorio de datos, visualizaremos el comportamiento de las características importantes para entender las tendencias y los posibles problemas. Seguidamente, utilizaremos criterios definidos para clasificar a los operadores ineficaces, combinando factores como las llamadas perdidas y el tiempo de espera. Para finalizar, probaremos hipótesis para comprobar si existe una relación significativa entre estas variables y así determinar si los operadores ineficaces realizan menos llamadas salientes que el resto."
   ]
  },
  {
   "cell_type": "markdown",
   "metadata": {},
   "source": [
    "## Objetivos"
   ]
  },
  {
   "cell_type": "markdown",
   "metadata": {},
   "source": [
    "### Objetivo general"
   ]
  },
  {
   "cell_type": "markdown",
   "metadata": {},
   "source": [
    "Identificar a los operadores ineficaces del servicio de telefonía CallMeMaybe de acuerdo a la cantidad de llamadas perdidas, tiempo de espera y el número de llamadas salientes"
   ]
  },
  {
   "cell_type": "markdown",
   "metadata": {},
   "source": [
    "### Objetivos específicos"
   ]
  },
  {
   "cell_type": "markdown",
   "metadata": {},
   "source": [
    "1. Detectar a los operadores con alto porcentaje de llamadas perdidas.\n",
    "2. Verificar los operadores que coinciden con el tiempo de espera prolongado.\n",
    "3. Determinar cuantos operadores tienen bajo rendimiento en llamadas salientes."
   ]
  },
  {
   "cell_type": "markdown",
   "metadata": {},
   "source": [
    "## Lectura de datos"
   ]
  },
  {
   "cell_type": "markdown",
   "metadata": {},
   "source": [
    "### Librerias"
   ]
  },
  {
   "cell_type": "code",
   "execution_count": 1,
   "metadata": {},
   "outputs": [],
   "source": [
    "import pandas as pd\n",
    "import matplotlib.pyplot as plt\n",
    "import plotly.express as px\n",
    "import numpy as np\n",
    "import seaborn as sns"
   ]
  },
  {
   "cell_type": "markdown",
   "metadata": {},
   "source": [
    "### Cargar base de datos"
   ]
  },
  {
   "cell_type": "code",
   "execution_count": 2,
   "metadata": {},
   "outputs": [],
   "source": [
    "#Creamos una ruta de archivo única para cargar el archivo dataset\n",
    "try:\n",
    "    path = 'C:/Users/erika/Desktop/data/proyecto_final/'\n",
    "    data = pd.read_csv(path + 'telecom_dataset_us.csv')\n",
    "except: \n",
    "    data = pd.read_csv('/datasets/telecom_dataset_us.csv')"
   ]
  },
  {
   "cell_type": "code",
   "execution_count": 3,
   "metadata": {},
   "outputs": [],
   "source": [
    "#Creamos una ruta de archivo única para cargar el archivo clients\n",
    "try:\n",
    "    path = 'C:/Users/erika/Desktop/data/proyecto_final/'\n",
    "    clients = pd.read_csv(path + 'telecom_clients_us.csv')\n",
    "except: \n",
    "    clients = pd.read_csv('/datasets/telecom_clients_us.csv')"
   ]
  },
  {
   "cell_type": "markdown",
   "metadata": {},
   "source": [
    "### Analizar tipo de datos y columnas"
   ]
  },
  {
   "cell_type": "code",
   "execution_count": 4,
   "metadata": {},
   "outputs": [
    {
     "name": "stdout",
     "output_type": "stream",
     "text": [
      "<class 'pandas.core.frame.DataFrame'>\n",
      "RangeIndex: 53902 entries, 0 to 53901\n",
      "Data columns (total 9 columns):\n",
      " #   Column               Non-Null Count  Dtype  \n",
      "---  ------               --------------  -----  \n",
      " 0   user_id              53902 non-null  int64  \n",
      " 1   date                 53902 non-null  object \n",
      " 2   direction            53902 non-null  object \n",
      " 3   internal             53785 non-null  object \n",
      " 4   operator_id          45730 non-null  float64\n",
      " 5   is_missed_call       53902 non-null  bool   \n",
      " 6   calls_count          53902 non-null  int64  \n",
      " 7   call_duration        53902 non-null  int64  \n",
      " 8   total_call_duration  53902 non-null  int64  \n",
      "dtypes: bool(1), float64(1), int64(4), object(3)\n",
      "memory usage: 3.3+ MB\n"
     ]
    }
   ],
   "source": [
    "data.info(show_counts=True)"
   ]
  },
  {
   "cell_type": "code",
   "execution_count": 5,
   "metadata": {},
   "outputs": [
    {
     "data": {
      "text/html": [
       "<div>\n",
       "<style scoped>\n",
       "    .dataframe tbody tr th:only-of-type {\n",
       "        vertical-align: middle;\n",
       "    }\n",
       "\n",
       "    .dataframe tbody tr th {\n",
       "        vertical-align: top;\n",
       "    }\n",
       "\n",
       "    .dataframe thead th {\n",
       "        text-align: right;\n",
       "    }\n",
       "</style>\n",
       "<table border=\"1\" class=\"dataframe\">\n",
       "  <thead>\n",
       "    <tr style=\"text-align: right;\">\n",
       "      <th></th>\n",
       "      <th>user_id</th>\n",
       "      <th>date</th>\n",
       "      <th>direction</th>\n",
       "      <th>internal</th>\n",
       "      <th>operator_id</th>\n",
       "      <th>is_missed_call</th>\n",
       "      <th>calls_count</th>\n",
       "      <th>call_duration</th>\n",
       "      <th>total_call_duration</th>\n",
       "    </tr>\n",
       "  </thead>\n",
       "  <tbody>\n",
       "    <tr>\n",
       "      <th>0</th>\n",
       "      <td>166377</td>\n",
       "      <td>2019-08-04 00:00:00+03:00</td>\n",
       "      <td>in</td>\n",
       "      <td>False</td>\n",
       "      <td>NaN</td>\n",
       "      <td>True</td>\n",
       "      <td>2</td>\n",
       "      <td>0</td>\n",
       "      <td>4</td>\n",
       "    </tr>\n",
       "    <tr>\n",
       "      <th>1</th>\n",
       "      <td>166377</td>\n",
       "      <td>2019-08-05 00:00:00+03:00</td>\n",
       "      <td>out</td>\n",
       "      <td>True</td>\n",
       "      <td>880022.0</td>\n",
       "      <td>True</td>\n",
       "      <td>3</td>\n",
       "      <td>0</td>\n",
       "      <td>5</td>\n",
       "    </tr>\n",
       "    <tr>\n",
       "      <th>2</th>\n",
       "      <td>166377</td>\n",
       "      <td>2019-08-05 00:00:00+03:00</td>\n",
       "      <td>out</td>\n",
       "      <td>True</td>\n",
       "      <td>880020.0</td>\n",
       "      <td>True</td>\n",
       "      <td>1</td>\n",
       "      <td>0</td>\n",
       "      <td>1</td>\n",
       "    </tr>\n",
       "    <tr>\n",
       "      <th>3</th>\n",
       "      <td>166377</td>\n",
       "      <td>2019-08-05 00:00:00+03:00</td>\n",
       "      <td>out</td>\n",
       "      <td>True</td>\n",
       "      <td>880020.0</td>\n",
       "      <td>False</td>\n",
       "      <td>1</td>\n",
       "      <td>10</td>\n",
       "      <td>18</td>\n",
       "    </tr>\n",
       "    <tr>\n",
       "      <th>4</th>\n",
       "      <td>166377</td>\n",
       "      <td>2019-08-05 00:00:00+03:00</td>\n",
       "      <td>out</td>\n",
       "      <td>False</td>\n",
       "      <td>880022.0</td>\n",
       "      <td>True</td>\n",
       "      <td>3</td>\n",
       "      <td>0</td>\n",
       "      <td>25</td>\n",
       "    </tr>\n",
       "  </tbody>\n",
       "</table>\n",
       "</div>"
      ],
      "text/plain": [
       "   user_id                       date direction internal  operator_id  \\\n",
       "0   166377  2019-08-04 00:00:00+03:00        in    False          NaN   \n",
       "1   166377  2019-08-05 00:00:00+03:00       out     True     880022.0   \n",
       "2   166377  2019-08-05 00:00:00+03:00       out     True     880020.0   \n",
       "3   166377  2019-08-05 00:00:00+03:00       out     True     880020.0   \n",
       "4   166377  2019-08-05 00:00:00+03:00       out    False     880022.0   \n",
       "\n",
       "   is_missed_call  calls_count  call_duration  total_call_duration  \n",
       "0            True            2              0                    4  \n",
       "1            True            3              0                    5  \n",
       "2            True            1              0                    1  \n",
       "3           False            1             10                   18  \n",
       "4            True            3              0                   25  "
      ]
     },
     "execution_count": 5,
     "metadata": {},
     "output_type": "execute_result"
    }
   ],
   "source": [
    "data.head()"
   ]
  },
  {
   "cell_type": "code",
   "execution_count": 6,
   "metadata": {
    "scrolled": true
   },
   "outputs": [
    {
     "name": "stdout",
     "output_type": "stream",
     "text": [
      "<class 'pandas.core.frame.DataFrame'>\n",
      "RangeIndex: 732 entries, 0 to 731\n",
      "Data columns (total 3 columns):\n",
      " #   Column       Non-Null Count  Dtype \n",
      "---  ------       --------------  ----- \n",
      " 0   user_id      732 non-null    int64 \n",
      " 1   tariff_plan  732 non-null    object\n",
      " 2   date_start   732 non-null    object\n",
      "dtypes: int64(1), object(2)\n",
      "memory usage: 17.3+ KB\n"
     ]
    }
   ],
   "source": [
    "clients.info(show_counts=True)"
   ]
  },
  {
   "cell_type": "code",
   "execution_count": 7,
   "metadata": {},
   "outputs": [
    {
     "data": {
      "text/html": [
       "<div>\n",
       "<style scoped>\n",
       "    .dataframe tbody tr th:only-of-type {\n",
       "        vertical-align: middle;\n",
       "    }\n",
       "\n",
       "    .dataframe tbody tr th {\n",
       "        vertical-align: top;\n",
       "    }\n",
       "\n",
       "    .dataframe thead th {\n",
       "        text-align: right;\n",
       "    }\n",
       "</style>\n",
       "<table border=\"1\" class=\"dataframe\">\n",
       "  <thead>\n",
       "    <tr style=\"text-align: right;\">\n",
       "      <th></th>\n",
       "      <th>user_id</th>\n",
       "      <th>tariff_plan</th>\n",
       "      <th>date_start</th>\n",
       "    </tr>\n",
       "  </thead>\n",
       "  <tbody>\n",
       "    <tr>\n",
       "      <th>0</th>\n",
       "      <td>166713</td>\n",
       "      <td>A</td>\n",
       "      <td>2019-08-15</td>\n",
       "    </tr>\n",
       "    <tr>\n",
       "      <th>1</th>\n",
       "      <td>166901</td>\n",
       "      <td>A</td>\n",
       "      <td>2019-08-23</td>\n",
       "    </tr>\n",
       "    <tr>\n",
       "      <th>2</th>\n",
       "      <td>168527</td>\n",
       "      <td>A</td>\n",
       "      <td>2019-10-29</td>\n",
       "    </tr>\n",
       "    <tr>\n",
       "      <th>3</th>\n",
       "      <td>167097</td>\n",
       "      <td>A</td>\n",
       "      <td>2019-09-01</td>\n",
       "    </tr>\n",
       "    <tr>\n",
       "      <th>4</th>\n",
       "      <td>168193</td>\n",
       "      <td>A</td>\n",
       "      <td>2019-10-16</td>\n",
       "    </tr>\n",
       "  </tbody>\n",
       "</table>\n",
       "</div>"
      ],
      "text/plain": [
       "   user_id tariff_plan  date_start\n",
       "0   166713           A  2019-08-15\n",
       "1   166901           A  2019-08-23\n",
       "2   168527           A  2019-10-29\n",
       "3   167097           A  2019-09-01\n",
       "4   168193           A  2019-10-16"
      ]
     },
     "execution_count": 7,
     "metadata": {},
     "output_type": "execute_result"
    }
   ],
   "source": [
    "clients.head()"
   ]
  },
  {
   "cell_type": "markdown",
   "metadata": {},
   "source": [
    "### Valores nulos"
   ]
  },
  {
   "cell_type": "markdown",
   "metadata": {},
   "source": [
    "La tabla data contiene valores nulos en las columnas de internal y operador_id, mientras que la tabla clients no contiene valores nulos."
   ]
  },
  {
   "cell_type": "markdown",
   "metadata": {},
   "source": [
    "## Preprocesamiento de datos"
   ]
  },
  {
   "cell_type": "markdown",
   "metadata": {},
   "source": [
    "### Tratar valores nulos"
   ]
  },
  {
   "cell_type": "markdown",
   "metadata": {},
   "source": [
    "Los valores nulos en operador id debemos eliminarlos ya que el propósito del proyecto es identificar los ineficaces, así que no hay sentido en estudiarlos si no hay manera de reconocer al operador. De igual manera eliminaremos las filas que no tienen información de las llamadas internas ya que este también es un parámetro que estaremos considerando en la eficacia."
   ]
  },
  {
   "cell_type": "code",
   "execution_count": 8,
   "metadata": {},
   "outputs": [],
   "source": [
    "data = data.dropna()"
   ]
  },
  {
   "cell_type": "markdown",
   "metadata": {},
   "source": [
    "### Verificar duplicados"
   ]
  },
  {
   "cell_type": "code",
   "execution_count": 9,
   "metadata": {},
   "outputs": [
    {
     "data": {
      "text/plain": [
       "4179"
      ]
     },
     "execution_count": 9,
     "metadata": {},
     "output_type": "execute_result"
    }
   ],
   "source": [
    "data.duplicated().sum()"
   ]
  },
  {
   "cell_type": "code",
   "execution_count": 10,
   "metadata": {},
   "outputs": [
    {
     "data": {
      "text/plain": [
       "0"
      ]
     },
     "execution_count": 10,
     "metadata": {},
     "output_type": "execute_result"
    }
   ],
   "source": [
    "clients.duplicated().sum()"
   ]
  },
  {
   "cell_type": "code",
   "execution_count": 11,
   "metadata": {},
   "outputs": [],
   "source": [
    "data = data.drop_duplicates()"
   ]
  },
  {
   "cell_type": "markdown",
   "metadata": {},
   "source": [
    "### Convertir tipo de datos"
   ]
  },
  {
   "cell_type": "code",
   "execution_count": 12,
   "metadata": {
    "scrolled": true
   },
   "outputs": [],
   "source": [
    "#Convertiremos a fecha los datos correspondientes\n",
    "data['date'] =  pd.to_datetime(data['date'], format=\"%Y-%m-%d\")\n",
    "clients['date_start'] =  pd.to_datetime(clients['date_start'], format=\"%Y-%m-%d\")"
   ]
  },
  {
   "cell_type": "code",
   "execution_count": 13,
   "metadata": {},
   "outputs": [],
   "source": [
    "# llamadas perdidas\n",
    "data['is_missed_call'] = data['is_missed_call'].astype(int)"
   ]
  },
  {
   "cell_type": "code",
   "execution_count": 14,
   "metadata": {},
   "outputs": [],
   "source": [
    "# dirección de la llamada\n",
    "data['direction'] = data['direction'].replace({'in': 0, 'out': 1}) #entrante a 0 y saliente a 1\n",
    "data['direction'] = data['direction'].astype(int)"
   ]
  },
  {
   "cell_type": "code",
   "execution_count": 15,
   "metadata": {},
   "outputs": [],
   "source": [
    "# llamadas internas\n",
    "data['internal'] = data['internal'].astype(int)"
   ]
  },
  {
   "cell_type": "markdown",
   "metadata": {},
   "source": [
    "#### Datos adicionales\n",
    "Agregaremos una columna con el tiempo de espera"
   ]
  },
  {
   "cell_type": "code",
   "execution_count": 16,
   "metadata": {},
   "outputs": [
    {
     "data": {
      "text/html": [
       "<div>\n",
       "<style scoped>\n",
       "    .dataframe tbody tr th:only-of-type {\n",
       "        vertical-align: middle;\n",
       "    }\n",
       "\n",
       "    .dataframe tbody tr th {\n",
       "        vertical-align: top;\n",
       "    }\n",
       "\n",
       "    .dataframe thead th {\n",
       "        text-align: right;\n",
       "    }\n",
       "</style>\n",
       "<table border=\"1\" class=\"dataframe\">\n",
       "  <thead>\n",
       "    <tr style=\"text-align: right;\">\n",
       "      <th></th>\n",
       "      <th>user_id</th>\n",
       "      <th>date</th>\n",
       "      <th>direction</th>\n",
       "      <th>internal</th>\n",
       "      <th>operator_id</th>\n",
       "      <th>is_missed_call</th>\n",
       "      <th>calls_count</th>\n",
       "      <th>call_duration</th>\n",
       "      <th>total_call_duration</th>\n",
       "      <th>waiting_time</th>\n",
       "    </tr>\n",
       "  </thead>\n",
       "  <tbody>\n",
       "    <tr>\n",
       "      <th>1</th>\n",
       "      <td>166377</td>\n",
       "      <td>2019-08-05 00:00:00+03:00</td>\n",
       "      <td>1</td>\n",
       "      <td>1</td>\n",
       "      <td>880022.0</td>\n",
       "      <td>1</td>\n",
       "      <td>3</td>\n",
       "      <td>0</td>\n",
       "      <td>5</td>\n",
       "      <td>5</td>\n",
       "    </tr>\n",
       "    <tr>\n",
       "      <th>2</th>\n",
       "      <td>166377</td>\n",
       "      <td>2019-08-05 00:00:00+03:00</td>\n",
       "      <td>1</td>\n",
       "      <td>1</td>\n",
       "      <td>880020.0</td>\n",
       "      <td>1</td>\n",
       "      <td>1</td>\n",
       "      <td>0</td>\n",
       "      <td>1</td>\n",
       "      <td>1</td>\n",
       "    </tr>\n",
       "    <tr>\n",
       "      <th>3</th>\n",
       "      <td>166377</td>\n",
       "      <td>2019-08-05 00:00:00+03:00</td>\n",
       "      <td>1</td>\n",
       "      <td>1</td>\n",
       "      <td>880020.0</td>\n",
       "      <td>0</td>\n",
       "      <td>1</td>\n",
       "      <td>10</td>\n",
       "      <td>18</td>\n",
       "      <td>8</td>\n",
       "    </tr>\n",
       "    <tr>\n",
       "      <th>4</th>\n",
       "      <td>166377</td>\n",
       "      <td>2019-08-05 00:00:00+03:00</td>\n",
       "      <td>1</td>\n",
       "      <td>0</td>\n",
       "      <td>880022.0</td>\n",
       "      <td>1</td>\n",
       "      <td>3</td>\n",
       "      <td>0</td>\n",
       "      <td>25</td>\n",
       "      <td>25</td>\n",
       "    </tr>\n",
       "    <tr>\n",
       "      <th>5</th>\n",
       "      <td>166377</td>\n",
       "      <td>2019-08-05 00:00:00+03:00</td>\n",
       "      <td>1</td>\n",
       "      <td>0</td>\n",
       "      <td>880020.0</td>\n",
       "      <td>0</td>\n",
       "      <td>2</td>\n",
       "      <td>3</td>\n",
       "      <td>29</td>\n",
       "      <td>26</td>\n",
       "    </tr>\n",
       "  </tbody>\n",
       "</table>\n",
       "</div>"
      ],
      "text/plain": [
       "   user_id                      date  direction  internal  operator_id  \\\n",
       "1   166377 2019-08-05 00:00:00+03:00          1         1     880022.0   \n",
       "2   166377 2019-08-05 00:00:00+03:00          1         1     880020.0   \n",
       "3   166377 2019-08-05 00:00:00+03:00          1         1     880020.0   \n",
       "4   166377 2019-08-05 00:00:00+03:00          1         0     880022.0   \n",
       "5   166377 2019-08-05 00:00:00+03:00          1         0     880020.0   \n",
       "\n",
       "   is_missed_call  calls_count  call_duration  total_call_duration  \\\n",
       "1               1            3              0                    5   \n",
       "2               1            1              0                    1   \n",
       "3               0            1             10                   18   \n",
       "4               1            3              0                   25   \n",
       "5               0            2              3                   29   \n",
       "\n",
       "   waiting_time  \n",
       "1             5  \n",
       "2             1  \n",
       "3             8  \n",
       "4            25  \n",
       "5            26  "
      ]
     },
     "execution_count": 16,
     "metadata": {},
     "output_type": "execute_result"
    }
   ],
   "source": [
    "data['waiting_time'] = data['total_call_duration'] - data['call_duration']\n",
    "data.head()"
   ]
  },
  {
   "cell_type": "markdown",
   "metadata": {},
   "source": [
    "## Análisis exploratorio de datos"
   ]
  },
  {
   "cell_type": "markdown",
   "metadata": {},
   "source": [
    "### Visualizar estadística descriptiva"
   ]
  },
  {
   "cell_type": "code",
   "execution_count": 17,
   "metadata": {
    "scrolled": true
   },
   "outputs": [
    {
     "data": {
      "text/html": [
       "<div>\n",
       "<style scoped>\n",
       "    .dataframe tbody tr th:only-of-type {\n",
       "        vertical-align: middle;\n",
       "    }\n",
       "\n",
       "    .dataframe tbody tr th {\n",
       "        vertical-align: top;\n",
       "    }\n",
       "\n",
       "    .dataframe thead th {\n",
       "        text-align: right;\n",
       "    }\n",
       "</style>\n",
       "<table border=\"1\" class=\"dataframe\">\n",
       "  <thead>\n",
       "    <tr style=\"text-align: right;\">\n",
       "      <th></th>\n",
       "      <th>user_id</th>\n",
       "      <th>direction</th>\n",
       "      <th>internal</th>\n",
       "      <th>operator_id</th>\n",
       "      <th>is_missed_call</th>\n",
       "      <th>calls_count</th>\n",
       "      <th>call_duration</th>\n",
       "      <th>total_call_duration</th>\n",
       "      <th>waiting_time</th>\n",
       "    </tr>\n",
       "  </thead>\n",
       "  <tbody>\n",
       "    <tr>\n",
       "      <th>count</th>\n",
       "      <td>41491.000000</td>\n",
       "      <td>41491.00000</td>\n",
       "      <td>41491.000000</td>\n",
       "      <td>41491.000000</td>\n",
       "      <td>41491.000000</td>\n",
       "      <td>41491.000000</td>\n",
       "      <td>41491.000000</td>\n",
       "      <td>41491.000000</td>\n",
       "      <td>41491.000000</td>\n",
       "    </tr>\n",
       "    <tr>\n",
       "      <th>mean</th>\n",
       "      <td>167301.113543</td>\n",
       "      <td>0.69444</td>\n",
       "      <td>0.128462</td>\n",
       "      <td>916516.771155</td>\n",
       "      <td>0.340050</td>\n",
       "      <td>16.921381</td>\n",
       "      <td>1010.940011</td>\n",
       "      <td>1323.153238</td>\n",
       "      <td>312.213227</td>\n",
       "    </tr>\n",
       "    <tr>\n",
       "      <th>std</th>\n",
       "      <td>600.513986</td>\n",
       "      <td>0.46065</td>\n",
       "      <td>0.334607</td>\n",
       "      <td>21234.081589</td>\n",
       "      <td>0.473731</td>\n",
       "      <td>59.786187</td>\n",
       "      <td>4066.666485</td>\n",
       "      <td>4788.953155</td>\n",
       "      <td>1176.102940</td>\n",
       "    </tr>\n",
       "    <tr>\n",
       "      <th>min</th>\n",
       "      <td>166377.000000</td>\n",
       "      <td>0.00000</td>\n",
       "      <td>0.000000</td>\n",
       "      <td>879896.000000</td>\n",
       "      <td>0.000000</td>\n",
       "      <td>1.000000</td>\n",
       "      <td>0.000000</td>\n",
       "      <td>0.000000</td>\n",
       "      <td>0.000000</td>\n",
       "    </tr>\n",
       "    <tr>\n",
       "      <th>25%</th>\n",
       "      <td>166782.000000</td>\n",
       "      <td>0.00000</td>\n",
       "      <td>0.000000</td>\n",
       "      <td>900790.000000</td>\n",
       "      <td>0.000000</td>\n",
       "      <td>1.000000</td>\n",
       "      <td>0.000000</td>\n",
       "      <td>67.000000</td>\n",
       "      <td>19.000000</td>\n",
       "    </tr>\n",
       "    <tr>\n",
       "      <th>50%</th>\n",
       "      <td>167175.000000</td>\n",
       "      <td>1.00000</td>\n",
       "      <td>0.000000</td>\n",
       "      <td>913938.000000</td>\n",
       "      <td>0.000000</td>\n",
       "      <td>4.000000</td>\n",
       "      <td>106.000000</td>\n",
       "      <td>289.000000</td>\n",
       "      <td>60.000000</td>\n",
       "    </tr>\n",
       "    <tr>\n",
       "      <th>75%</th>\n",
       "      <td>167827.000000</td>\n",
       "      <td>1.00000</td>\n",
       "      <td>0.000000</td>\n",
       "      <td>937708.000000</td>\n",
       "      <td>1.000000</td>\n",
       "      <td>14.000000</td>\n",
       "      <td>772.000000</td>\n",
       "      <td>1107.000000</td>\n",
       "      <td>219.000000</td>\n",
       "    </tr>\n",
       "    <tr>\n",
       "      <th>max</th>\n",
       "      <td>168606.000000</td>\n",
       "      <td>1.00000</td>\n",
       "      <td>1.000000</td>\n",
       "      <td>973286.000000</td>\n",
       "      <td>1.000000</td>\n",
       "      <td>4817.000000</td>\n",
       "      <td>144395.000000</td>\n",
       "      <td>166155.000000</td>\n",
       "      <td>46474.000000</td>\n",
       "    </tr>\n",
       "  </tbody>\n",
       "</table>\n",
       "</div>"
      ],
      "text/plain": [
       "             user_id    direction      internal    operator_id  \\\n",
       "count   41491.000000  41491.00000  41491.000000   41491.000000   \n",
       "mean   167301.113543      0.69444      0.128462  916516.771155   \n",
       "std       600.513986      0.46065      0.334607   21234.081589   \n",
       "min    166377.000000      0.00000      0.000000  879896.000000   \n",
       "25%    166782.000000      0.00000      0.000000  900790.000000   \n",
       "50%    167175.000000      1.00000      0.000000  913938.000000   \n",
       "75%    167827.000000      1.00000      0.000000  937708.000000   \n",
       "max    168606.000000      1.00000      1.000000  973286.000000   \n",
       "\n",
       "       is_missed_call   calls_count  call_duration  total_call_duration  \\\n",
       "count    41491.000000  41491.000000   41491.000000         41491.000000   \n",
       "mean         0.340050     16.921381    1010.940011          1323.153238   \n",
       "std          0.473731     59.786187    4066.666485          4788.953155   \n",
       "min          0.000000      1.000000       0.000000             0.000000   \n",
       "25%          0.000000      1.000000       0.000000            67.000000   \n",
       "50%          0.000000      4.000000     106.000000           289.000000   \n",
       "75%          1.000000     14.000000     772.000000          1107.000000   \n",
       "max          1.000000   4817.000000  144395.000000        166155.000000   \n",
       "\n",
       "       waiting_time  \n",
       "count  41491.000000  \n",
       "mean     312.213227  \n",
       "std     1176.102940  \n",
       "min        0.000000  \n",
       "25%       19.000000  \n",
       "50%       60.000000  \n",
       "75%      219.000000  \n",
       "max    46474.000000  "
      ]
     },
     "execution_count": 17,
     "metadata": {},
     "output_type": "execute_result"
    }
   ],
   "source": [
    "data.describe()"
   ]
  },
  {
   "cell_type": "markdown",
   "metadata": {},
   "source": [
    "### Visualizar distribuciones"
   ]
  },
  {
   "cell_type": "code",
   "execution_count": 18,
   "metadata": {
    "scrolled": true
   },
   "outputs": [
    {
     "data": {
      "text/plain": [
       "<matplotlib.collections.PathCollection at 0x7f0e840fcd90>"
      ]
     },
     "execution_count": 18,
     "metadata": {},
     "output_type": "execute_result"
    },
    {
     "data": {
      "image/png": "[encoded data removed]",
      "text/plain": [
       "<Figure size 640x480 with 1 Axes>"
      ]
     },
     "metadata": {},
     "output_type": "display_data"
    }
   ],
   "source": [
    "plt.scatter(data['total_call_duration'], data['user_id'])"
   ]
  },
  {
   "cell_type": "code",
   "execution_count": 19,
   "metadata": {},
   "outputs": [],
   "source": [
    "#Filtraremos los datos con una duración de llamada superior a 100000\n",
    "df = data[data['call_duration'] < 100000]"
   ]
  },
  {
   "cell_type": "code",
   "execution_count": 20,
   "metadata": {},
   "outputs": [
    {
     "data": {
      "text/html": [
       "<div>\n",
       "<style scoped>\n",
       "    .dataframe tbody tr th:only-of-type {\n",
       "        vertical-align: middle;\n",
       "    }\n",
       "\n",
       "    .dataframe tbody tr th {\n",
       "        vertical-align: top;\n",
       "    }\n",
       "\n",
       "    .dataframe thead th {\n",
       "        text-align: right;\n",
       "    }\n",
       "</style>\n",
       "<table border=\"1\" class=\"dataframe\">\n",
       "  <thead>\n",
       "    <tr style=\"text-align: right;\">\n",
       "      <th></th>\n",
       "      <th>user_id</th>\n",
       "      <th>direction</th>\n",
       "      <th>internal</th>\n",
       "      <th>operator_id</th>\n",
       "      <th>is_missed_call</th>\n",
       "      <th>calls_count</th>\n",
       "      <th>call_duration</th>\n",
       "      <th>total_call_duration</th>\n",
       "      <th>waiting_time</th>\n",
       "    </tr>\n",
       "  </thead>\n",
       "  <tbody>\n",
       "    <tr>\n",
       "      <th>count</th>\n",
       "      <td>41477.000000</td>\n",
       "      <td>41477.000000</td>\n",
       "      <td>41477.000000</td>\n",
       "      <td>41477.000000</td>\n",
       "      <td>41477.000000</td>\n",
       "      <td>41477.000000</td>\n",
       "      <td>41477.000000</td>\n",
       "      <td>41477.000000</td>\n",
       "      <td>41477.000000</td>\n",
       "    </tr>\n",
       "    <tr>\n",
       "      <th>mean</th>\n",
       "      <td>167301.356270</td>\n",
       "      <td>0.694337</td>\n",
       "      <td>0.128505</td>\n",
       "      <td>916527.113533</td>\n",
       "      <td>0.340164</td>\n",
       "      <td>16.610435</td>\n",
       "      <td>971.571039</td>\n",
       "      <td>1278.185332</td>\n",
       "      <td>306.614292</td>\n",
       "    </tr>\n",
       "    <tr>\n",
       "      <th>std</th>\n",
       "      <td>600.469949</td>\n",
       "      <td>0.460693</td>\n",
       "      <td>0.334655</td>\n",
       "      <td>21230.200237</td>\n",
       "      <td>0.473770</td>\n",
       "      <td>57.148706</td>\n",
       "      <td>3450.898942</td>\n",
       "      <td>4111.310099</td>\n",
       "      <td>1132.961607</td>\n",
       "    </tr>\n",
       "    <tr>\n",
       "      <th>min</th>\n",
       "      <td>166377.000000</td>\n",
       "      <td>0.000000</td>\n",
       "      <td>0.000000</td>\n",
       "      <td>879896.000000</td>\n",
       "      <td>0.000000</td>\n",
       "      <td>1.000000</td>\n",
       "      <td>0.000000</td>\n",
       "      <td>0.000000</td>\n",
       "      <td>0.000000</td>\n",
       "    </tr>\n",
       "    <tr>\n",
       "      <th>25%</th>\n",
       "      <td>166782.000000</td>\n",
       "      <td>0.000000</td>\n",
       "      <td>0.000000</td>\n",
       "      <td>900792.000000</td>\n",
       "      <td>0.000000</td>\n",
       "      <td>1.000000</td>\n",
       "      <td>0.000000</td>\n",
       "      <td>67.000000</td>\n",
       "      <td>19.000000</td>\n",
       "    </tr>\n",
       "    <tr>\n",
       "      <th>50%</th>\n",
       "      <td>167175.000000</td>\n",
       "      <td>1.000000</td>\n",
       "      <td>0.000000</td>\n",
       "      <td>913938.000000</td>\n",
       "      <td>0.000000</td>\n",
       "      <td>4.000000</td>\n",
       "      <td>106.000000</td>\n",
       "      <td>289.000000</td>\n",
       "      <td>60.000000</td>\n",
       "    </tr>\n",
       "    <tr>\n",
       "      <th>75%</th>\n",
       "      <td>167827.000000</td>\n",
       "      <td>1.000000</td>\n",
       "      <td>0.000000</td>\n",
       "      <td>937708.000000</td>\n",
       "      <td>1.000000</td>\n",
       "      <td>14.000000</td>\n",
       "      <td>770.000000</td>\n",
       "      <td>1105.000000</td>\n",
       "      <td>219.000000</td>\n",
       "    </tr>\n",
       "    <tr>\n",
       "      <th>max</th>\n",
       "      <td>168606.000000</td>\n",
       "      <td>1.000000</td>\n",
       "      <td>1.000000</td>\n",
       "      <td>973286.000000</td>\n",
       "      <td>1.000000</td>\n",
       "      <td>4817.000000</td>\n",
       "      <td>98748.000000</td>\n",
       "      <td>113843.000000</td>\n",
       "      <td>46474.000000</td>\n",
       "    </tr>\n",
       "  </tbody>\n",
       "</table>\n",
       "</div>"
      ],
      "text/plain": [
       "             user_id     direction      internal    operator_id  \\\n",
       "count   41477.000000  41477.000000  41477.000000   41477.000000   \n",
       "mean   167301.356270      0.694337      0.128505  916527.113533   \n",
       "std       600.469949      0.460693      0.334655   21230.200237   \n",
       "min    166377.000000      0.000000      0.000000  879896.000000   \n",
       "25%    166782.000000      0.000000      0.000000  900792.000000   \n",
       "50%    167175.000000      1.000000      0.000000  913938.000000   \n",
       "75%    167827.000000      1.000000      0.000000  937708.000000   \n",
       "max    168606.000000      1.000000      1.000000  973286.000000   \n",
       "\n",
       "       is_missed_call   calls_count  call_duration  total_call_duration  \\\n",
       "count    41477.000000  41477.000000   41477.000000         41477.000000   \n",
       "mean         0.340164     16.610435     971.571039          1278.185332   \n",
       "std          0.473770     57.148706    3450.898942          4111.310099   \n",
       "min          0.000000      1.000000       0.000000             0.000000   \n",
       "25%          0.000000      1.000000       0.000000            67.000000   \n",
       "50%          0.000000      4.000000     106.000000           289.000000   \n",
       "75%          1.000000     14.000000     770.000000          1105.000000   \n",
       "max          1.000000   4817.000000   98748.000000        113843.000000   \n",
       "\n",
       "       waiting_time  \n",
       "count  41477.000000  \n",
       "mean     306.614292  \n",
       "std     1132.961607  \n",
       "min        0.000000  \n",
       "25%       19.000000  \n",
       "50%       60.000000  \n",
       "75%      219.000000  \n",
       "max    46474.000000  "
      ]
     },
     "execution_count": 20,
     "metadata": {},
     "output_type": "execute_result"
    }
   ],
   "source": [
    "df.describe()"
   ]
  },
  {
   "cell_type": "code",
   "execution_count": 21,
   "metadata": {
    "scrolled": true
   },
   "outputs": [
    {
     "data": {
      "image/png": "[encoded data removed]",
      "text/plain": [
       "<Figure size 640x480 with 1 Axes>"
      ]
     },
     "metadata": {},
     "output_type": "display_data"
    }
   ],
   "source": [
    "# Boxplot del tiempo de espera\n",
    "sns.boxplot(x=df['waiting_time'])\n",
    "plt.show()"
   ]
  },
  {
   "cell_type": "code",
   "execution_count": 22,
   "metadata": {},
   "outputs": [
    {
     "data": {
      "image/png": "[encoded data removed]",
      "text/plain": [
       "<Figure size 640x480 with 1 Axes>"
      ]
     },
     "metadata": {},
     "output_type": "display_data"
    }
   ],
   "source": [
    "#Filtraremos tiempos de espera superiores a 3000\n",
    "df_ = df[df['waiting_time'] < 3000]\n",
    "sns.boxplot(x=df_['waiting_time'])\n",
    "plt.show()"
   ]
  },
  {
   "cell_type": "code",
   "execution_count": 23,
   "metadata": {
    "scrolled": true
   },
   "outputs": [
    {
     "data": {
      "image/png": "[encoded data removed]",
      "text/plain": [
       "<Figure size 640x480 with 1 Axes>"
      ]
     },
     "metadata": {},
     "output_type": "display_data"
    },
    {
     "data": {
      "image/png": "[encoded data removed]",
      "text/plain": [
       "<Figure size 640x480 with 1 Axes>"
      ]
     },
     "metadata": {},
     "output_type": "display_data"
    }
   ],
   "source": [
    "# Distribución de llamadas perdidas\n",
    "sns.histplot(data['is_missed_call'])\n",
    "plt.show()\n",
    "\n",
    "# Distribución de llamadas salirntes\n",
    "sns.histplot(data['direction'])\n",
    "plt.show()"
   ]
  },
  {
   "cell_type": "markdown",
   "metadata": {},
   "source": [
    "### Crear matriz de correlación"
   ]
  },
  {
   "cell_type": "code",
   "execution_count": 24,
   "metadata": {},
   "outputs": [
    {
     "data": {
      "image/png": "[encoded data removed]",
      "text/plain": [
       "<Figure size 640x480 with 2 Axes>"
      ]
     },
     "metadata": {},
     "output_type": "display_data"
    }
   ],
   "source": [
    "corr = data.corr()\n",
    "sns.heatmap(corr, cmap='Reds', annot=True)\n",
    "plt.show()"
   ]
  },
  {
   "cell_type": "markdown",
   "metadata": {},
   "source": [
    "### Analizar porcentajes de las métricas"
   ]
  },
  {
   "cell_type": "code",
   "execution_count": 25,
   "metadata": {},
   "outputs": [
    {
     "data": {
      "text/html": [
       "<div>\n",
       "<style scoped>\n",
       "    .dataframe tbody tr th:only-of-type {\n",
       "        vertical-align: middle;\n",
       "    }\n",
       "\n",
       "    .dataframe tbody tr th {\n",
       "        vertical-align: top;\n",
       "    }\n",
       "\n",
       "    .dataframe thead th {\n",
       "        text-align: right;\n",
       "    }\n",
       "</style>\n",
       "<table border=\"1\" class=\"dataframe\">\n",
       "  <thead>\n",
       "    <tr style=\"text-align: right;\">\n",
       "      <th></th>\n",
       "      <th>operator_id</th>\n",
       "      <th>total_calls</th>\n",
       "      <th>missed_calls</th>\n",
       "      <th>out_calls</th>\n",
       "      <th>total_waiting_time</th>\n",
       "      <th>mean_waiting</th>\n",
       "      <th>por_missed_calls</th>\n",
       "      <th>por_out_calls</th>\n",
       "    </tr>\n",
       "  </thead>\n",
       "  <tbody>\n",
       "    <tr>\n",
       "      <th>0</th>\n",
       "      <td>879896.0</td>\n",
       "      <td>117</td>\n",
       "      <td>47</td>\n",
       "      <td>96</td>\n",
       "      <td>12275</td>\n",
       "      <td>104.914530</td>\n",
       "      <td>40.170940</td>\n",
       "      <td>82.051282</td>\n",
       "    </tr>\n",
       "    <tr>\n",
       "      <th>1</th>\n",
       "      <td>879898.0</td>\n",
       "      <td>226</td>\n",
       "      <td>89</td>\n",
       "      <td>170</td>\n",
       "      <td>103890</td>\n",
       "      <td>459.690265</td>\n",
       "      <td>39.380531</td>\n",
       "      <td>75.221239</td>\n",
       "    </tr>\n",
       "    <tr>\n",
       "      <th>2</th>\n",
       "      <td>880020.0</td>\n",
       "      <td>20</td>\n",
       "      <td>6</td>\n",
       "      <td>13</td>\n",
       "      <td>280</td>\n",
       "      <td>14.000000</td>\n",
       "      <td>30.000000</td>\n",
       "      <td>65.000000</td>\n",
       "    </tr>\n",
       "    <tr>\n",
       "      <th>3</th>\n",
       "      <td>880022.0</td>\n",
       "      <td>70</td>\n",
       "      <td>29</td>\n",
       "      <td>62</td>\n",
       "      <td>3778</td>\n",
       "      <td>53.971429</td>\n",
       "      <td>41.428571</td>\n",
       "      <td>88.571429</td>\n",
       "    </tr>\n",
       "    <tr>\n",
       "      <th>4</th>\n",
       "      <td>880026.0</td>\n",
       "      <td>182</td>\n",
       "      <td>87</td>\n",
       "      <td>164</td>\n",
       "      <td>22200</td>\n",
       "      <td>121.978022</td>\n",
       "      <td>47.802198</td>\n",
       "      <td>90.109890</td>\n",
       "    </tr>\n",
       "  </tbody>\n",
       "</table>\n",
       "</div>"
      ],
      "text/plain": [
       "   operator_id  total_calls  missed_calls  out_calls  total_waiting_time  \\\n",
       "0     879896.0          117            47         96               12275   \n",
       "1     879898.0          226            89        170              103890   \n",
       "2     880020.0           20             6         13                 280   \n",
       "3     880022.0           70            29         62                3778   \n",
       "4     880026.0          182            87        164               22200   \n",
       "\n",
       "   mean_waiting  por_missed_calls  por_out_calls  \n",
       "0    104.914530         40.170940      82.051282  \n",
       "1    459.690265         39.380531      75.221239  \n",
       "2     14.000000         30.000000      65.000000  \n",
       "3     53.971429         41.428571      88.571429  \n",
       "4    121.978022         47.802198      90.109890  "
      ]
     },
     "execution_count": 25,
     "metadata": {},
     "output_type": "execute_result"
    }
   ],
   "source": [
    "# Agrupar por operador y calcular el total de llamadas, número de llamadas perdidas, salientes y la suma del tiempo de espera\n",
    "operators = df_.groupby('operator_id').agg(\n",
    "    total_calls=('user_id', 'count'),\n",
    "    missed_calls=('is_missed_call', 'sum'),\n",
    "    out_calls=('direction', 'sum'),\n",
    "    total_waiting_time=('waiting_time', 'sum'),\n",
    "    mean_waiting=('waiting_time', 'mean')\n",
    ").reset_index()\n",
    "\n",
    "# Calcular los porcentajes\n",
    "operators['por_missed_calls'] = (operators['missed_calls'] / operators['total_calls']) * 100\n",
    "operators['por_out_calls'] = (operators['out_calls'] / operators['total_calls']) * 100\n",
    "\n",
    "operators.head()"
   ]
  },
  {
   "cell_type": "markdown",
   "metadata": {},
   "source": [
    "## Identificar operadores ineficaces"
   ]
  },
  {
   "cell_type": "markdown",
   "metadata": {},
   "source": [
    "### Establecer eficacia"
   ]
  },
  {
   "cell_type": "markdown",
   "metadata": {},
   "source": [
    "Para establecer la eficacia se deben considerar los siguientes criterios:\n",
    "\n",
    "1. Cantidad de llamadas perdidas. Un porcentaje debajo del 25%\n",
    "2. Tiempos de espera prolongados para atender las llamadas entrantes. Un promedio de 60\n",
    "3. Número de llamadas salientes. Un porcentaje superior al 30%\n",
    "\n",
    "De modo que la métrica combinada debe considerar numéricamente los 3 factores para ponderar la eficiencia. La métrica será:\n",
    "\n",
    "                       Eficacia = llamadas perdidas + tiempo de espera - llamadas salientes\n",
    "                       \n",
    "Asignaremos los siguientes pesos:\n",
    "llamadas perdidas (0.4), tiempo de espera (0.3), llamadas salientes (0.3)\n",
    "\n",
    "                       \n",
    "El umbral será que el resultado menor a 0.65 es un operador ineficaz"
   ]
  },
  {
   "cell_type": "markdown",
   "metadata": {},
   "source": [
    "### Métrica combinada de eficiencia"
   ]
  },
  {
   "cell_type": "markdown",
   "metadata": {},
   "source": [
    "#### Normalización de datos"
   ]
  },
  {
   "cell_type": "code",
   "execution_count": 26,
   "metadata": {},
   "outputs": [],
   "source": [
    "from sklearn.preprocessing import MinMaxScaler\n",
    "\n",
    "scaler = MinMaxScaler()\n",
    "df = pd.DataFrame(operators)\n",
    "\n",
    "df_normalized = df.copy()\n",
    "\n",
    "#columnas que queremos normalizar\n",
    "cols_to_normalize = ['por_missed_calls', 'mean_waiting', 'por_out_calls']\n",
    "\n",
    "#Normalizamos\n",
    "df_normalized[cols_to_normalize] = scaler.fit_transform(df[cols_to_normalize])\n"
   ]
  },
  {
   "cell_type": "markdown",
   "metadata": {},
   "source": [
    "#### Crear métrica"
   ]
  },
  {
   "cell_type": "code",
   "execution_count": 27,
   "metadata": {},
   "outputs": [
    {
     "data": {
      "text/html": [
       "<div>\n",
       "<style scoped>\n",
       "    .dataframe tbody tr th:only-of-type {\n",
       "        vertical-align: middle;\n",
       "    }\n",
       "\n",
       "    .dataframe tbody tr th {\n",
       "        vertical-align: top;\n",
       "    }\n",
       "\n",
       "    .dataframe thead th {\n",
       "        text-align: right;\n",
       "    }\n",
       "</style>\n",
       "<table border=\"1\" class=\"dataframe\">\n",
       "  <thead>\n",
       "    <tr style=\"text-align: right;\">\n",
       "      <th></th>\n",
       "      <th>operator_id</th>\n",
       "      <th>eficacia</th>\n",
       "    </tr>\n",
       "  </thead>\n",
       "  <tbody>\n",
       "    <tr>\n",
       "      <th>1027</th>\n",
       "      <td>960666.0</td>\n",
       "      <td>0.999556</td>\n",
       "    </tr>\n",
       "    <tr>\n",
       "      <th>604</th>\n",
       "      <td>930692.0</td>\n",
       "      <td>0.999261</td>\n",
       "    </tr>\n",
       "    <tr>\n",
       "      <th>984</th>\n",
       "      <td>955086.0</td>\n",
       "      <td>0.999113</td>\n",
       "    </tr>\n",
       "    <tr>\n",
       "      <th>986</th>\n",
       "      <td>955094.0</td>\n",
       "      <td>0.998817</td>\n",
       "    </tr>\n",
       "    <tr>\n",
       "      <th>250</th>\n",
       "      <td>905470.0</td>\n",
       "      <td>0.998522</td>\n",
       "    </tr>\n",
       "    <tr>\n",
       "      <th>...</th>\n",
       "      <td>...</td>\n",
       "      <td>...</td>\n",
       "    </tr>\n",
       "    <tr>\n",
       "      <th>843</th>\n",
       "      <td>945278.0</td>\n",
       "      <td>0.521572</td>\n",
       "    </tr>\n",
       "    <tr>\n",
       "      <th>427</th>\n",
       "      <td>919162.0</td>\n",
       "      <td>0.511474</td>\n",
       "    </tr>\n",
       "    <tr>\n",
       "      <th>439</th>\n",
       "      <td>919206.0</td>\n",
       "      <td>0.510958</td>\n",
       "    </tr>\n",
       "    <tr>\n",
       "      <th>367</th>\n",
       "      <td>913886.0</td>\n",
       "      <td>0.498004</td>\n",
       "    </tr>\n",
       "    <tr>\n",
       "      <th>847</th>\n",
       "      <td>945286.0</td>\n",
       "      <td>0.484985</td>\n",
       "    </tr>\n",
       "  </tbody>\n",
       "</table>\n",
       "<p>1092 rows × 2 columns</p>\n",
       "</div>"
      ],
      "text/plain": [
       "      operator_id  eficacia\n",
       "1027     960666.0  0.999556\n",
       "604      930692.0  0.999261\n",
       "984      955086.0  0.999113\n",
       "986      955094.0  0.998817\n",
       "250      905470.0  0.998522\n",
       "...           ...       ...\n",
       "843      945278.0  0.521572\n",
       "427      919162.0  0.511474\n",
       "439      919206.0  0.510958\n",
       "367      913886.0  0.498004\n",
       "847      945286.0  0.484985\n",
       "\n",
       "[1092 rows x 2 columns]"
      ]
     },
     "execution_count": 27,
     "metadata": {},
     "output_type": "execute_result"
    }
   ],
   "source": [
    "#Asignamos los pesos para cada criterio\n",
    "w1, w2, w3 = 0.4, 0.3, 0.3\n",
    "\n",
    "#calculamos la métrica de eficacia ponderada\n",
    "df_normalized['eficacia'] = (\n",
    "    w1 * (1 - df_normalized['por_missed_calls']) +  #menor porcentaje de llamadas perdidas es mejor\n",
    "    w2 * (1 - df_normalized['mean_waiting']) +  #menor tiempo de espera es mejor\n",
    "    w3 * df_normalized['por_out_calls']   #mayor porcentaje de llamadas salientes es mejor\n",
    ")\n",
    "\n",
    "#visualizamos por eficacia\n",
    "df_normalized[['operator_id', 'eficacia']].sort_values(by='eficacia', ascending=False)\n"
   ]
  },
  {
   "cell_type": "code",
   "execution_count": 28,
   "metadata": {
    "scrolled": true
   },
   "outputs": [
    {
     "data": {
      "text/html": [
       "<div>\n",
       "<style scoped>\n",
       "    .dataframe tbody tr th:only-of-type {\n",
       "        vertical-align: middle;\n",
       "    }\n",
       "\n",
       "    .dataframe tbody tr th {\n",
       "        vertical-align: top;\n",
       "    }\n",
       "\n",
       "    .dataframe thead th {\n",
       "        text-align: right;\n",
       "    }\n",
       "</style>\n",
       "<table border=\"1\" class=\"dataframe\">\n",
       "  <thead>\n",
       "    <tr style=\"text-align: right;\">\n",
       "      <th></th>\n",
       "      <th>operator_id</th>\n",
       "      <th>total_calls</th>\n",
       "      <th>missed_calls</th>\n",
       "      <th>out_calls</th>\n",
       "      <th>total_waiting_time</th>\n",
       "      <th>mean_waiting</th>\n",
       "      <th>por_missed_calls</th>\n",
       "      <th>por_out_calls</th>\n",
       "      <th>eficacia</th>\n",
       "    </tr>\n",
       "  </thead>\n",
       "  <tbody>\n",
       "    <tr>\n",
       "      <th>7</th>\n",
       "      <td>881278.0</td>\n",
       "      <td>8</td>\n",
       "      <td>7</td>\n",
       "      <td>8</td>\n",
       "      <td>78</td>\n",
       "      <td>0.004805</td>\n",
       "      <td>0.875000</td>\n",
       "      <td>1.000000</td>\n",
       "      <td>0.648559</td>\n",
       "    </tr>\n",
       "    <tr>\n",
       "      <th>8</th>\n",
       "      <td>882476.0</td>\n",
       "      <td>3</td>\n",
       "      <td>0</td>\n",
       "      <td>0</td>\n",
       "      <td>95</td>\n",
       "      <td>0.015605</td>\n",
       "      <td>0.000000</td>\n",
       "      <td>0.000000</td>\n",
       "      <td>0.695318</td>\n",
       "    </tr>\n",
       "    <tr>\n",
       "      <th>9</th>\n",
       "      <td>882478.0</td>\n",
       "      <td>3</td>\n",
       "      <td>1</td>\n",
       "      <td>1</td>\n",
       "      <td>83</td>\n",
       "      <td>0.013634</td>\n",
       "      <td>0.333333</td>\n",
       "      <td>0.333333</td>\n",
       "      <td>0.662576</td>\n",
       "    </tr>\n",
       "    <tr>\n",
       "      <th>10</th>\n",
       "      <td>882680.0</td>\n",
       "      <td>43</td>\n",
       "      <td>3</td>\n",
       "      <td>0</td>\n",
       "      <td>1591</td>\n",
       "      <td>0.018234</td>\n",
       "      <td>0.069767</td>\n",
       "      <td>0.000000</td>\n",
       "      <td>0.666623</td>\n",
       "    </tr>\n",
       "    <tr>\n",
       "      <th>14</th>\n",
       "      <td>882690.0</td>\n",
       "      <td>63</td>\n",
       "      <td>23</td>\n",
       "      <td>41</td>\n",
       "      <td>36651</td>\n",
       "      <td>0.286693</td>\n",
       "      <td>0.365079</td>\n",
       "      <td>0.650794</td>\n",
       "      <td>0.663199</td>\n",
       "    </tr>\n",
       "    <tr>\n",
       "      <th>...</th>\n",
       "      <td>...</td>\n",
       "      <td>...</td>\n",
       "      <td>...</td>\n",
       "      <td>...</td>\n",
       "      <td>...</td>\n",
       "      <td>...</td>\n",
       "      <td>...</td>\n",
       "      <td>...</td>\n",
       "      <td>...</td>\n",
       "    </tr>\n",
       "    <tr>\n",
       "      <th>1080</th>\n",
       "      <td>970258.0</td>\n",
       "      <td>1</td>\n",
       "      <td>1</td>\n",
       "      <td>1</td>\n",
       "      <td>11</td>\n",
       "      <td>0.005421</td>\n",
       "      <td>1.000000</td>\n",
       "      <td>1.000000</td>\n",
       "      <td>0.598374</td>\n",
       "    </tr>\n",
       "    <tr>\n",
       "      <th>1083</th>\n",
       "      <td>971100.0</td>\n",
       "      <td>2</td>\n",
       "      <td>0</td>\n",
       "      <td>0</td>\n",
       "      <td>26</td>\n",
       "      <td>0.006406</td>\n",
       "      <td>0.000000</td>\n",
       "      <td>0.000000</td>\n",
       "      <td>0.698078</td>\n",
       "    </tr>\n",
       "    <tr>\n",
       "      <th>1084</th>\n",
       "      <td>971102.0</td>\n",
       "      <td>4</td>\n",
       "      <td>0</td>\n",
       "      <td>0</td>\n",
       "      <td>1352</td>\n",
       "      <td>0.166567</td>\n",
       "      <td>0.000000</td>\n",
       "      <td>0.000000</td>\n",
       "      <td>0.650030</td>\n",
       "    </tr>\n",
       "    <tr>\n",
       "      <th>1085</th>\n",
       "      <td>971354.0</td>\n",
       "      <td>2</td>\n",
       "      <td>0</td>\n",
       "      <td>0</td>\n",
       "      <td>84</td>\n",
       "      <td>0.020698</td>\n",
       "      <td>0.000000</td>\n",
       "      <td>0.000000</td>\n",
       "      <td>0.693791</td>\n",
       "    </tr>\n",
       "    <tr>\n",
       "      <th>1091</th>\n",
       "      <td>973286.0</td>\n",
       "      <td>1</td>\n",
       "      <td>0</td>\n",
       "      <td>0</td>\n",
       "      <td>88</td>\n",
       "      <td>0.043366</td>\n",
       "      <td>0.000000</td>\n",
       "      <td>0.000000</td>\n",
       "      <td>0.686990</td>\n",
       "    </tr>\n",
       "  </tbody>\n",
       "</table>\n",
       "<p>442 rows × 9 columns</p>\n",
       "</div>"
      ],
      "text/plain": [
       "      operator_id  total_calls  missed_calls  out_calls  total_waiting_time  \\\n",
       "7        881278.0            8             7          8                  78   \n",
       "8        882476.0            3             0          0                  95   \n",
       "9        882478.0            3             1          1                  83   \n",
       "10       882680.0           43             3          0                1591   \n",
       "14       882690.0           63            23         41               36651   \n",
       "...           ...          ...           ...        ...                 ...   \n",
       "1080     970258.0            1             1          1                  11   \n",
       "1083     971100.0            2             0          0                  26   \n",
       "1084     971102.0            4             0          0                1352   \n",
       "1085     971354.0            2             0          0                  84   \n",
       "1091     973286.0            1             0          0                  88   \n",
       "\n",
       "      mean_waiting  por_missed_calls  por_out_calls  eficacia  \n",
       "7         0.004805          0.875000       1.000000  0.648559  \n",
       "8         0.015605          0.000000       0.000000  0.695318  \n",
       "9         0.013634          0.333333       0.333333  0.662576  \n",
       "10        0.018234          0.069767       0.000000  0.666623  \n",
       "14        0.286693          0.365079       0.650794  0.663199  \n",
       "...            ...               ...            ...       ...  \n",
       "1080      0.005421          1.000000       1.000000  0.598374  \n",
       "1083      0.006406          0.000000       0.000000  0.698078  \n",
       "1084      0.166567          0.000000       0.000000  0.650030  \n",
       "1085      0.020698          0.000000       0.000000  0.693791  \n",
       "1091      0.043366          0.000000       0.000000  0.686990  \n",
       "\n",
       "[442 rows x 9 columns]"
      ]
     },
     "execution_count": 28,
     "metadata": {},
     "output_type": "execute_result"
    }
   ],
   "source": [
    "#Filtramos a los operadores ineficaces\n",
    "ineficaces = df_normalized[df_normalized['eficacia']<0.7]\n",
    "\n",
    "ineficaces"
   ]
  },
  {
   "cell_type": "code",
   "execution_count": 29,
   "metadata": {},
   "outputs": [
    {
     "data": {
      "image/png": "[encoded data removed]",
      "text/plain": [
       "<Figure size 640x480 with 1 Axes>"
      ]
     },
     "metadata": {},
     "output_type": "display_data"
    },
    {
     "data": {
      "image/png": "[encoded data removed]",
      "text/plain": [
       "<Figure size 640x480 with 1 Axes>"
      ]
     },
     "metadata": {},
     "output_type": "display_data"
    }
   ],
   "source": [
    "# Distribución de llamadas perdidas operadores ineficaces\n",
    "sns.histplot(ineficaces['missed_calls'])\n",
    "plt.show()\n",
    "\n",
    "# Distribución de llamadas salirntes operadores ineficaces\n",
    "sns.histplot(ineficaces['out_calls'])\n",
    "plt.show()"
   ]
  },
  {
   "cell_type": "markdown",
   "metadata": {},
   "source": [
    "## Prueba de hipótesis"
   ]
  },
  {
   "cell_type": "code",
   "execution_count": 30,
   "metadata": {},
   "outputs": [
    {
     "data": {
      "text/html": [
       "<div>\n",
       "<style scoped>\n",
       "    .dataframe tbody tr th:only-of-type {\n",
       "        vertical-align: middle;\n",
       "    }\n",
       "\n",
       "    .dataframe tbody tr th {\n",
       "        vertical-align: top;\n",
       "    }\n",
       "\n",
       "    .dataframe thead th {\n",
       "        text-align: right;\n",
       "    }\n",
       "</style>\n",
       "<table border=\"1\" class=\"dataframe\">\n",
       "  <thead>\n",
       "    <tr style=\"text-align: right;\">\n",
       "      <th></th>\n",
       "      <th>user_id</th>\n",
       "      <th>date</th>\n",
       "      <th>direction</th>\n",
       "      <th>internal</th>\n",
       "      <th>operator_id</th>\n",
       "      <th>is_missed_call</th>\n",
       "      <th>calls_count</th>\n",
       "      <th>call_duration</th>\n",
       "      <th>total_call_duration</th>\n",
       "      <th>waiting_time</th>\n",
       "    </tr>\n",
       "  </thead>\n",
       "  <tbody>\n",
       "    <tr>\n",
       "      <th>1</th>\n",
       "      <td>166377</td>\n",
       "      <td>2019-08-05 00:00:00+03:00</td>\n",
       "      <td>1</td>\n",
       "      <td>1</td>\n",
       "      <td>880022.0</td>\n",
       "      <td>1</td>\n",
       "      <td>3</td>\n",
       "      <td>0</td>\n",
       "      <td>5</td>\n",
       "      <td>5</td>\n",
       "    </tr>\n",
       "    <tr>\n",
       "      <th>2</th>\n",
       "      <td>166377</td>\n",
       "      <td>2019-08-05 00:00:00+03:00</td>\n",
       "      <td>1</td>\n",
       "      <td>1</td>\n",
       "      <td>880020.0</td>\n",
       "      <td>1</td>\n",
       "      <td>1</td>\n",
       "      <td>0</td>\n",
       "      <td>1</td>\n",
       "      <td>1</td>\n",
       "    </tr>\n",
       "    <tr>\n",
       "      <th>3</th>\n",
       "      <td>166377</td>\n",
       "      <td>2019-08-05 00:00:00+03:00</td>\n",
       "      <td>1</td>\n",
       "      <td>1</td>\n",
       "      <td>880020.0</td>\n",
       "      <td>0</td>\n",
       "      <td>1</td>\n",
       "      <td>10</td>\n",
       "      <td>18</td>\n",
       "      <td>8</td>\n",
       "    </tr>\n",
       "    <tr>\n",
       "      <th>4</th>\n",
       "      <td>166377</td>\n",
       "      <td>2019-08-05 00:00:00+03:00</td>\n",
       "      <td>1</td>\n",
       "      <td>0</td>\n",
       "      <td>880022.0</td>\n",
       "      <td>1</td>\n",
       "      <td>3</td>\n",
       "      <td>0</td>\n",
       "      <td>25</td>\n",
       "      <td>25</td>\n",
       "    </tr>\n",
       "    <tr>\n",
       "      <th>5</th>\n",
       "      <td>166377</td>\n",
       "      <td>2019-08-05 00:00:00+03:00</td>\n",
       "      <td>1</td>\n",
       "      <td>0</td>\n",
       "      <td>880020.0</td>\n",
       "      <td>0</td>\n",
       "      <td>2</td>\n",
       "      <td>3</td>\n",
       "      <td>29</td>\n",
       "      <td>26</td>\n",
       "    </tr>\n",
       "  </tbody>\n",
       "</table>\n",
       "</div>"
      ],
      "text/plain": [
       "   user_id                      date  direction  internal  operator_id  \\\n",
       "1   166377 2019-08-05 00:00:00+03:00          1         1     880022.0   \n",
       "2   166377 2019-08-05 00:00:00+03:00          1         1     880020.0   \n",
       "3   166377 2019-08-05 00:00:00+03:00          1         1     880020.0   \n",
       "4   166377 2019-08-05 00:00:00+03:00          1         0     880022.0   \n",
       "5   166377 2019-08-05 00:00:00+03:00          1         0     880020.0   \n",
       "\n",
       "   is_missed_call  calls_count  call_duration  total_call_duration  \\\n",
       "1               1            3              0                    5   \n",
       "2               1            1              0                    1   \n",
       "3               0            1             10                   18   \n",
       "4               1            3              0                   25   \n",
       "5               0            2              3                   29   \n",
       "\n",
       "   waiting_time  \n",
       "1             5  \n",
       "2             1  \n",
       "3             8  \n",
       "4            25  \n",
       "5            26  "
      ]
     },
     "execution_count": 30,
     "metadata": {},
     "output_type": "execute_result"
    }
   ],
   "source": [
    "df_.head()"
   ]
  },
  {
   "cell_type": "markdown",
   "metadata": {},
   "source": [
    "###  Hipótesis 1: Los operadores con más llamadas perdidas tienen mayores tiempos de espera"
   ]
  },
  {
   "cell_type": "code",
   "execution_count": 31,
   "metadata": {},
   "outputs": [
    {
     "name": "stdout",
     "output_type": "stream",
     "text": [
      "Correlación: 0.11376726044604757, p-valor: 3.778015148050453e-118\n",
      "Estadísticamente significativa.\n"
     ]
    }
   ],
   "source": [
    "from scipy.stats import pearsonr\n",
    "\n",
    "#Calculamos correlación de Pearson\n",
    "corr, p_value = pearsonr(df_['is_missed_call'], df_['waiting_time'])\n",
    "print(f'Correlación: {corr}, p-valor: {p_value}')\n",
    "\n",
    "#Declaramos la significancia\n",
    "if p_value < 0.05:\n",
    "    print(\"Estadísticamente significativa.\")\n",
    "else:\n",
    "    print(\"No es estadísticamente significativa.\")"
   ]
  },
  {
   "cell_type": "markdown",
   "metadata": {},
   "source": [
    "Los resultados indican que la correlación no es fuerte ya que se encuentra muy cerca de 0. Sin embargo, el valor de p afirma que hay significancia estadística."
   ]
  },
  {
   "cell_type": "markdown",
   "metadata": {},
   "source": [
    "### Hipótesis 2: Los operadores más eficaces realizan mayores cantidades de llamadas salientes"
   ]
  },
  {
   "cell_type": "code",
   "execution_count": 32,
   "metadata": {
    "scrolled": true
   },
   "outputs": [
    {
     "name": "stdout",
     "output_type": "stream",
     "text": [
      "Estadístico t: -12.154171055577208, p-valor: 5.745329500775132e-32\n",
      "Estadísticamente significativa.\n"
     ]
    }
   ],
   "source": [
    "from scipy.stats import ttest_ind\n",
    "\n",
    "# Separar en grupos eficaces e ineficaces\n",
    "eficaces_calls = df_normalized[df_normalized['eficacia'] <= 0.7]['out_calls']\n",
    "ineficaces_calls = df_normalized[df_normalized['eficacia'] > 0.7]['out_calls']\n",
    "\n",
    "# Prueba t\n",
    "t_stat, p_value = ttest_ind(eficaces_calls, ineficaces_calls)\n",
    "print(f'Estadístico t: {t_stat}, p-valor: {p_value}')\n",
    "#Declaramos la significancia\n",
    "if p_value < 0.05:\n",
    "    print(\"Estadísticamente significativa.\")\n",
    "else:\n",
    "    print(\"No es estadísticamente significativa.\")"
   ]
  },
  {
   "cell_type": "markdown",
   "metadata": {},
   "source": [
    "## Conclusión"
   ]
  },
  {
   "cell_type": "markdown",
   "metadata": {},
   "source": [
    "La base de datos contaba con algunos valores que debían corregirse como las filas con valores nulos y las filas duplicadas ya que afectarían el análisi, de igual modo fue requerido hacer algunos ajustes en los tipos de datos para poder procesar los cálculos correctamente. Seguido de eso se identificaron valores demasiado altos que afectaban las visualizaciones del tiempo de espera y la duración de llamada, se filtaron los valores máximos sin eliminarse todos ya que si había un número algo considerable de valores que salían de la caja en un boxplot. \n",
    "\n",
    "En el cálculo de la metrica para definir la eficacia, se requirió normalizar los datos previamente y calcular los porcentajes en los que se perdía una llamada, cuantas llamadas eran salientes y un promedio del tiempo de espera por operador. Se ponderaron los criterios estableciendose mayor peso a las llamadas perdidas. Finalmente se encontró que de los 1092 operadores, 442 son considerados ineficaces de acuerdo a la métrica descrita. Siendo el 40.48 % de los operadores. \n",
    "\n",
    "Por otro lado, se demostró que los operadores con más llamadas perdidas también tienen los mayores tiempos de espera, aunque la correlación de esta afirmación es algo debil. Así mismo podemos afirmar que los operadores más eficaces realizan mayores cantidades de llamadas salientes."
   ]
  },
  {
   "cell_type": "markdown",
   "metadata": {},
   "source": [
    "### Recomendaciones"
   ]
  },
  {
   "cell_type": "markdown",
   "metadata": {},
   "source": [
    "Implementar sistemas de optimización del tiempo de espera, tales como capacitaciones, manuales y protocolos.\n",
    "\n",
    "Redistribuir el volumen de llamadas a aquellos operadores con mayor cantidad de llamadas perdidas.\n",
    "\n",
    "Establecer objetivos de llamadas salientes para mejorar las métricas.\n",
    "\n",
    "Adoptar un sistema de incentivos de acuerdo a metas y evaluar periodicamente."
   ]
  },
  {
   "cell_type": "markdown",
   "metadata": {},
   "source": [
    "## Presentación"
   ]
  },
  {
   "cell_type": "markdown",
   "metadata": {},
   "source": [
    "### PDF: "
   ]
  },
  {
   "cell_type": "markdown",
   "metadata": {},
   "source": [
    "https://drive.google.com/file/d/1UeucY9H_7-8K8GEXzkd4ufrioKc_8aVL/view?usp=sharing"
   ]
  },
  {
   "cell_type": "markdown",
   "metadata": {},
   "source": [
    "### Dashboard:"
   ]
  },
  {
   "cell_type": "markdown",
   "metadata": {},
   "source": [
    "https://public.tableau.com/views/Telecom_17283157754930/Dashboard1?:language=es-ES&publish=yes&:sid=&:redirect=auth&:display_count=n&:origin=viz_share_link"
   ]
  }
 ],
 "metadata": {
  "ExecuteTimeLog": [
   {
    "duration": 2226,
    "start_time": "2024-10-02T13:22:09.067Z"
   },
   {
    "duration": 86,
    "start_time": "2024-10-02T13:28:25.304Z"
   },
   {
    "duration": 41,
    "start_time": "2024-10-02T13:28:26.367Z"
   },
   {
    "duration": 42,
    "start_time": "2024-10-02T13:31:02.380Z"
   },
   {
    "duration": 49,
    "start_time": "2024-10-02T13:31:03.160Z"
   },
   {
    "duration": 10,
    "start_time": "2024-10-02T13:31:19.330Z"
   },
   {
    "duration": 10,
    "start_time": "2024-10-02T13:32:36.376Z"
   },
   {
    "duration": 44,
    "start_time": "2024-10-02T13:33:18.730Z"
   },
   {
    "duration": 35,
    "start_time": "2024-10-02T13:33:19.479Z"
   },
   {
    "duration": 14,
    "start_time": "2024-10-02T13:33:25.153Z"
   },
   {
    "duration": 13,
    "start_time": "2024-10-02T13:33:29.572Z"
   },
   {
    "duration": 11,
    "start_time": "2024-10-02T13:35:55.051Z"
   },
   {
    "duration": 9,
    "start_time": "2024-10-02T13:36:08.604Z"
   },
   {
    "duration": 8,
    "start_time": "2024-10-02T13:38:38.527Z"
   },
   {
    "duration": 9,
    "start_time": "2024-10-02T13:38:46.829Z"
   },
   {
    "duration": 7,
    "start_time": "2024-10-02T13:38:48.733Z"
   },
   {
    "duration": 2,
    "start_time": "2024-10-02T13:41:05.043Z"
   },
   {
    "duration": 2,
    "start_time": "2024-10-02T13:41:12.190Z"
   },
   {
    "duration": 21,
    "start_time": "2024-10-02T13:48:18.130Z"
   },
   {
    "duration": 15,
    "start_time": "2024-10-02T13:49:14.891Z"
   },
   {
    "duration": 6,
    "start_time": "2024-10-02T13:49:29.967Z"
   },
   {
    "duration": 15,
    "start_time": "2024-10-02T13:51:39.967Z"
   },
   {
    "duration": 14,
    "start_time": "2024-10-02T13:51:43.402Z"
   },
   {
    "duration": 622,
    "start_time": "2024-10-02T13:59:55.518Z"
   },
   {
    "duration": 90,
    "start_time": "2024-10-02T14:00:31.551Z"
   },
   {
    "duration": 27,
    "start_time": "2024-10-02T14:00:49.486Z"
   },
   {
    "duration": 13,
    "start_time": "2024-10-02T14:03:16.356Z"
   },
   {
    "duration": 15,
    "start_time": "2024-10-02T14:03:26.239Z"
   },
   {
    "duration": 2,
    "start_time": "2024-10-02T14:03:44.662Z"
   },
   {
    "duration": 37,
    "start_time": "2024-10-02T14:03:44.668Z"
   },
   {
    "duration": 5,
    "start_time": "2024-10-02T14:03:44.707Z"
   },
   {
    "duration": 12,
    "start_time": "2024-10-02T14:03:44.714Z"
   },
   {
    "duration": 8,
    "start_time": "2024-10-02T14:03:44.728Z"
   },
   {
    "duration": 8,
    "start_time": "2024-10-02T14:03:44.738Z"
   },
   {
    "duration": 6,
    "start_time": "2024-10-02T14:03:44.747Z"
   },
   {
    "duration": 39,
    "start_time": "2024-10-02T14:03:44.755Z"
   },
   {
    "duration": 15,
    "start_time": "2024-10-02T14:03:44.796Z"
   },
   {
    "duration": 5,
    "start_time": "2024-10-02T14:03:44.814Z"
   },
   {
    "duration": 15,
    "start_time": "2024-10-02T14:03:44.822Z"
   },
   {
    "duration": 15,
    "start_time": "2024-10-02T14:03:44.839Z"
   },
   {
    "duration": 5,
    "start_time": "2024-10-02T14:04:33.104Z"
   },
   {
    "duration": 9,
    "start_time": "2024-10-02T14:06:28.040Z"
   },
   {
    "duration": 19,
    "start_time": "2024-10-02T14:13:28.346Z"
   },
   {
    "duration": 10,
    "start_time": "2024-10-02T14:14:12.314Z"
   },
   {
    "duration": 10,
    "start_time": "2024-10-02T14:18:27.958Z"
   },
   {
    "duration": 22,
    "start_time": "2024-10-02T14:19:54.862Z"
   },
   {
    "duration": 13,
    "start_time": "2024-10-02T14:21:59.486Z"
   },
   {
    "duration": 375,
    "start_time": "2024-10-02T14:22:14.496Z"
   },
   {
    "duration": 283,
    "start_time": "2024-10-02T14:22:20.738Z"
   },
   {
    "duration": 2556,
    "start_time": "2024-10-02T15:19:28.657Z"
   },
   {
    "duration": 90,
    "start_time": "2024-10-02T15:19:31.215Z"
   },
   {
    "duration": 9,
    "start_time": "2024-10-02T15:19:31.307Z"
   },
   {
    "duration": 14,
    "start_time": "2024-10-02T15:19:31.318Z"
   },
   {
    "duration": 9,
    "start_time": "2024-10-02T15:19:31.334Z"
   },
   {
    "duration": 8,
    "start_time": "2024-10-02T15:19:31.345Z"
   },
   {
    "duration": 6,
    "start_time": "2024-10-02T15:19:31.354Z"
   },
   {
    "duration": 11,
    "start_time": "2024-10-02T15:19:31.362Z"
   },
   {
    "duration": 43,
    "start_time": "2024-10-02T15:19:31.374Z"
   },
   {
    "duration": 5,
    "start_time": "2024-10-02T15:19:31.420Z"
   },
   {
    "duration": 14,
    "start_time": "2024-10-02T15:19:31.426Z"
   },
   {
    "duration": 9,
    "start_time": "2024-10-02T15:19:31.442Z"
   },
   {
    "duration": 2,
    "start_time": "2024-10-02T15:19:31.453Z"
   },
   {
    "duration": 2,
    "start_time": "2024-10-02T15:19:31.457Z"
   },
   {
    "duration": 2,
    "start_time": "2024-10-02T15:19:31.461Z"
   },
   {
    "duration": 47,
    "start_time": "2024-10-02T15:19:31.465Z"
   },
   {
    "duration": 22,
    "start_time": "2024-10-02T15:19:31.513Z"
   },
   {
    "duration": 221,
    "start_time": "2024-10-02T15:19:31.536Z"
   },
   {
    "duration": 824,
    "start_time": "2024-10-02T15:25:38.732Z"
   },
   {
    "duration": 12,
    "start_time": "2024-10-02T15:26:19.498Z"
   },
   {
    "duration": 3,
    "start_time": "2024-10-02T15:28:04.833Z"
   },
   {
    "duration": 4,
    "start_time": "2024-10-02T15:28:49.285Z"
   },
   {
    "duration": 30,
    "start_time": "2024-10-02T15:29:00.015Z"
   },
   {
    "duration": 202,
    "start_time": "2024-10-02T15:29:36.430Z"
   },
   {
    "duration": 312,
    "start_time": "2024-10-02T15:31:00.055Z"
   },
   {
    "duration": 414,
    "start_time": "2024-10-02T15:33:34.117Z"
   },
   {
    "duration": 384,
    "start_time": "2024-10-02T15:33:52.047Z"
   },
   {
    "duration": 4379,
    "start_time": "2024-10-02T15:34:10.445Z"
   },
   {
    "duration": 93,
    "start_time": "2024-10-02T15:35:57.730Z"
   },
   {
    "duration": 186,
    "start_time": "2024-10-02T15:39:40.152Z"
   },
   {
    "duration": 174,
    "start_time": "2024-10-02T15:40:35.724Z"
   },
   {
    "duration": 176,
    "start_time": "2024-10-02T15:41:08.613Z"
   },
   {
    "duration": 186,
    "start_time": "2024-10-02T15:43:37.265Z"
   },
   {
    "duration": 13,
    "start_time": "2024-10-02T15:44:20.140Z"
   },
   {
    "duration": 492,
    "start_time": "2024-10-02T15:44:33.497Z"
   },
   {
    "duration": 14,
    "start_time": "2024-10-02T15:45:01.644Z"
   },
   {
    "duration": 5,
    "start_time": "2024-10-02T15:46:03.341Z"
   },
   {
    "duration": 90,
    "start_time": "2024-10-02T15:46:18.787Z"
   },
   {
    "duration": 28,
    "start_time": "2024-10-02T15:46:51.536Z"
   },
   {
    "duration": 190,
    "start_time": "2024-10-02T15:47:44.107Z"
   },
   {
    "duration": 5,
    "start_time": "2024-10-02T15:48:14.835Z"
   },
   {
    "duration": 28,
    "start_time": "2024-10-02T15:48:16.346Z"
   },
   {
    "duration": 80,
    "start_time": "2024-10-02T15:49:22.006Z"
   },
   {
    "duration": 372,
    "start_time": "2024-10-02T15:49:52.554Z"
   },
   {
    "duration": 238,
    "start_time": "2024-10-02T15:51:25.952Z"
   },
   {
    "duration": 4069,
    "start_time": "2024-10-02T15:51:46.363Z"
   },
   {
    "duration": 78,
    "start_time": "2024-10-02T15:52:35.123Z"
   },
   {
    "duration": 89,
    "start_time": "2024-10-02T15:54:06.176Z"
   },
   {
    "duration": 610,
    "start_time": "2024-10-02T15:56:04.239Z"
   },
   {
    "duration": 619,
    "start_time": "2024-10-02T15:57:32.914Z"
   },
   {
    "duration": 2566,
    "start_time": "2024-10-03T13:05:00.546Z"
   },
   {
    "duration": 85,
    "start_time": "2024-10-03T13:05:03.115Z"
   },
   {
    "duration": 9,
    "start_time": "2024-10-03T13:05:03.202Z"
   },
   {
    "duration": 14,
    "start_time": "2024-10-03T13:05:03.213Z"
   },
   {
    "duration": 10,
    "start_time": "2024-10-03T13:05:03.229Z"
   },
   {
    "duration": 8,
    "start_time": "2024-10-03T13:05:03.240Z"
   },
   {
    "duration": 5,
    "start_time": "2024-10-03T13:05:03.250Z"
   },
   {
    "duration": 11,
    "start_time": "2024-10-03T13:05:03.257Z"
   },
   {
    "duration": 14,
    "start_time": "2024-10-03T13:05:03.269Z"
   },
   {
    "duration": 5,
    "start_time": "2024-10-03T13:05:03.285Z"
   },
   {
    "duration": 44,
    "start_time": "2024-10-03T13:05:03.292Z"
   },
   {
    "duration": 9,
    "start_time": "2024-10-03T13:05:03.338Z"
   },
   {
    "duration": 4,
    "start_time": "2024-10-03T13:05:03.348Z"
   },
   {
    "duration": 11,
    "start_time": "2024-10-03T13:05:03.356Z"
   },
   {
    "duration": 4,
    "start_time": "2024-10-03T13:05:03.369Z"
   },
   {
    "duration": 9,
    "start_time": "2024-10-03T13:05:03.374Z"
   },
   {
    "duration": 56,
    "start_time": "2024-10-03T13:05:03.385Z"
   },
   {
    "duration": 203,
    "start_time": "2024-10-03T13:05:03.442Z"
   },
   {
    "duration": 5,
    "start_time": "2024-10-03T13:05:03.646Z"
   },
   {
    "duration": 27,
    "start_time": "2024-10-03T13:05:03.653Z"
   },
   {
    "duration": 98,
    "start_time": "2024-10-03T13:05:03.682Z"
   },
   {
    "duration": 97,
    "start_time": "2024-10-03T13:05:03.781Z"
   },
   {
    "duration": 296,
    "start_time": "2024-10-03T13:05:03.880Z"
   },
   {
    "duration": 614,
    "start_time": "2024-10-03T13:05:04.178Z"
   },
   {
    "duration": 2568,
    "start_time": "2024-10-03T13:37:48.871Z"
   },
   {
    "duration": 78,
    "start_time": "2024-10-03T13:37:51.442Z"
   },
   {
    "duration": 8,
    "start_time": "2024-10-03T13:37:51.521Z"
   },
   {
    "duration": 13,
    "start_time": "2024-10-03T13:37:51.531Z"
   },
   {
    "duration": 10,
    "start_time": "2024-10-03T13:37:51.546Z"
   },
   {
    "duration": 7,
    "start_time": "2024-10-03T13:37:51.558Z"
   },
   {
    "duration": 8,
    "start_time": "2024-10-03T13:37:51.572Z"
   },
   {
    "duration": 18,
    "start_time": "2024-10-03T13:37:51.582Z"
   },
   {
    "duration": 18,
    "start_time": "2024-10-03T13:37:51.604Z"
   },
   {
    "duration": 3,
    "start_time": "2024-10-03T13:37:51.626Z"
   },
   {
    "duration": 15,
    "start_time": "2024-10-03T13:37:51.631Z"
   },
   {
    "duration": 31,
    "start_time": "2024-10-03T13:37:51.647Z"
   },
   {
    "duration": 3,
    "start_time": "2024-10-03T13:37:51.680Z"
   },
   {
    "duration": 12,
    "start_time": "2024-10-03T13:37:51.684Z"
   },
   {
    "duration": 4,
    "start_time": "2024-10-03T13:37:51.698Z"
   },
   {
    "duration": 10,
    "start_time": "2024-10-03T13:37:51.704Z"
   },
   {
    "duration": 59,
    "start_time": "2024-10-03T13:37:51.716Z"
   },
   {
    "duration": 202,
    "start_time": "2024-10-03T13:37:51.777Z"
   },
   {
    "duration": 5,
    "start_time": "2024-10-03T13:37:51.981Z"
   },
   {
    "duration": 27,
    "start_time": "2024-10-03T13:37:51.988Z"
   },
   {
    "duration": 100,
    "start_time": "2024-10-03T13:37:52.017Z"
   },
   {
    "duration": 94,
    "start_time": "2024-10-03T13:37:52.118Z"
   },
   {
    "duration": 259,
    "start_time": "2024-10-03T13:37:52.214Z"
   },
   {
    "duration": 705,
    "start_time": "2024-10-03T13:37:52.474Z"
   },
   {
    "duration": 572,
    "start_time": "2024-10-03T13:37:53.181Z"
   },
   {
    "duration": 20,
    "start_time": "2024-10-03T13:41:49.727Z"
   },
   {
    "duration": 22,
    "start_time": "2024-10-03T13:43:10.240Z"
   },
   {
    "duration": 19,
    "start_time": "2024-10-03T13:45:09.183Z"
   },
   {
    "duration": 22,
    "start_time": "2024-10-03T14:04:51.736Z"
   },
   {
    "duration": 7,
    "start_time": "2024-10-03T14:06:44.612Z"
   },
   {
    "duration": 20,
    "start_time": "2024-10-03T14:07:06.427Z"
   },
   {
    "duration": 134,
    "start_time": "2024-10-03T14:33:49.203Z"
   },
   {
    "duration": 10,
    "start_time": "2024-10-03T14:35:22.384Z"
   },
   {
    "duration": 16,
    "start_time": "2024-10-03T14:37:36.962Z"
   },
   {
    "duration": 10,
    "start_time": "2024-10-03T14:38:32.539Z"
   },
   {
    "duration": 196,
    "start_time": "2024-10-03T14:40:13.796Z"
   },
   {
    "duration": 13,
    "start_time": "2024-10-03T14:40:28.579Z"
   },
   {
    "duration": 13,
    "start_time": "2024-10-03T14:40:52.888Z"
   },
   {
    "duration": 10,
    "start_time": "2024-10-03T14:41:30.094Z"
   },
   {
    "duration": 8,
    "start_time": "2024-10-03T14:44:12.167Z"
   },
   {
    "duration": 6,
    "start_time": "2024-10-03T14:44:49.272Z"
   },
   {
    "duration": 5,
    "start_time": "2024-10-03T14:47:13.497Z"
   },
   {
    "duration": 43,
    "start_time": "2024-10-03T14:53:14.636Z"
   },
   {
    "duration": 6,
    "start_time": "2024-10-03T14:53:31.948Z"
   },
   {
    "duration": 6,
    "start_time": "2024-10-03T14:54:00.086Z"
   },
   {
    "duration": 6,
    "start_time": "2024-10-03T14:56:33.926Z"
   },
   {
    "duration": 12,
    "start_time": "2024-10-03T14:58:29.932Z"
   },
   {
    "duration": 6,
    "start_time": "2024-10-03T15:00:52.253Z"
   },
   {
    "duration": 2614,
    "start_time": "2024-10-03T16:07:26.770Z"
   },
   {
    "duration": 65,
    "start_time": "2024-10-03T16:07:29.386Z"
   },
   {
    "duration": 8,
    "start_time": "2024-10-03T16:07:29.453Z"
   },
   {
    "duration": 14,
    "start_time": "2024-10-03T16:07:29.463Z"
   },
   {
    "duration": 11,
    "start_time": "2024-10-03T16:07:29.478Z"
   },
   {
    "duration": 9,
    "start_time": "2024-10-03T16:07:29.491Z"
   },
   {
    "duration": 6,
    "start_time": "2024-10-03T16:07:29.502Z"
   },
   {
    "duration": 13,
    "start_time": "2024-10-03T16:07:29.510Z"
   },
   {
    "duration": 48,
    "start_time": "2024-10-03T16:07:29.525Z"
   },
   {
    "duration": 5,
    "start_time": "2024-10-03T16:07:29.577Z"
   },
   {
    "duration": 14,
    "start_time": "2024-10-03T16:07:29.584Z"
   },
   {
    "duration": 10,
    "start_time": "2024-10-03T16:07:29.600Z"
   },
   {
    "duration": 4,
    "start_time": "2024-10-03T16:07:29.611Z"
   },
   {
    "duration": 12,
    "start_time": "2024-10-03T16:07:29.616Z"
   },
   {
    "duration": 5,
    "start_time": "2024-10-03T16:07:29.629Z"
   },
   {
    "duration": 39,
    "start_time": "2024-10-03T16:07:29.636Z"
   },
   {
    "duration": 28,
    "start_time": "2024-10-03T16:07:29.677Z"
   },
   {
    "duration": 214,
    "start_time": "2024-10-03T16:07:29.707Z"
   },
   {
    "duration": 4,
    "start_time": "2024-10-03T16:07:29.923Z"
   },
   {
    "duration": 42,
    "start_time": "2024-10-03T16:07:29.929Z"
   },
   {
    "duration": 79,
    "start_time": "2024-10-03T16:07:29.972Z"
   },
   {
    "duration": 98,
    "start_time": "2024-10-03T16:07:30.054Z"
   },
   {
    "duration": 301,
    "start_time": "2024-10-03T16:07:30.154Z"
   },
   {
    "duration": 678,
    "start_time": "2024-10-03T16:07:30.456Z"
   },
   {
    "duration": 22,
    "start_time": "2024-10-03T16:07:31.136Z"
   },
   {
    "duration": 125,
    "start_time": "2024-10-03T16:07:31.159Z"
   },
   {
    "duration": 11,
    "start_time": "2024-10-03T16:07:31.286Z"
   },
   {
    "duration": 13,
    "start_time": "2024-10-03T16:07:31.300Z"
   },
   {
    "duration": 8,
    "start_time": "2024-10-03T16:07:31.314Z"
   },
   {
    "duration": 48,
    "start_time": "2024-10-03T16:07:31.323Z"
   },
   {
    "duration": 16,
    "start_time": "2024-10-03T16:07:31.373Z"
   },
   {
    "duration": 2594,
    "start_time": "2024-10-07T12:57:14.782Z"
   },
   {
    "duration": 74,
    "start_time": "2024-10-07T12:57:17.378Z"
   },
   {
    "duration": 9,
    "start_time": "2024-10-07T12:57:17.454Z"
   },
   {
    "duration": 14,
    "start_time": "2024-10-07T12:57:17.465Z"
   },
   {
    "duration": 10,
    "start_time": "2024-10-07T12:57:17.480Z"
   },
   {
    "duration": 7,
    "start_time": "2024-10-07T12:57:17.492Z"
   },
   {
    "duration": 9,
    "start_time": "2024-10-07T12:57:17.501Z"
   },
   {
    "duration": 12,
    "start_time": "2024-10-07T12:57:17.511Z"
   },
   {
    "duration": 15,
    "start_time": "2024-10-07T12:57:17.525Z"
   },
   {
    "duration": 5,
    "start_time": "2024-10-07T12:57:17.544Z"
   },
   {
    "duration": 14,
    "start_time": "2024-10-07T12:57:17.550Z"
   },
   {
    "duration": 11,
    "start_time": "2024-10-07T12:57:17.566Z"
   },
   {
    "duration": 32,
    "start_time": "2024-10-07T12:57:17.578Z"
   },
   {
    "duration": 15,
    "start_time": "2024-10-07T12:57:17.613Z"
   },
   {
    "duration": 4,
    "start_time": "2024-10-07T12:57:17.630Z"
   },
   {
    "duration": 10,
    "start_time": "2024-10-07T12:57:17.636Z"
   },
   {
    "duration": 30,
    "start_time": "2024-10-07T12:57:17.647Z"
   },
   {
    "duration": 242,
    "start_time": "2024-10-07T12:57:17.679Z"
   },
   {
    "duration": 6,
    "start_time": "2024-10-07T12:57:17.923Z"
   },
   {
    "duration": 29,
    "start_time": "2024-10-07T12:57:17.931Z"
   },
   {
    "duration": 108,
    "start_time": "2024-10-07T12:57:17.962Z"
   },
   {
    "duration": 105,
    "start_time": "2024-10-07T12:57:18.072Z"
   },
   {
    "duration": 314,
    "start_time": "2024-10-07T12:57:18.179Z"
   },
   {
    "duration": 666,
    "start_time": "2024-10-07T12:57:18.495Z"
   },
   {
    "duration": 21,
    "start_time": "2024-10-07T12:57:19.164Z"
   },
   {
    "duration": 130,
    "start_time": "2024-10-07T12:57:19.187Z"
   },
   {
    "duration": 12,
    "start_time": "2024-10-07T12:57:19.319Z"
   },
   {
    "duration": 11,
    "start_time": "2024-10-07T12:57:19.334Z"
   },
   {
    "duration": 251,
    "start_time": "2024-10-07T12:57:19.347Z"
   },
   {
    "duration": 0,
    "start_time": "2024-10-07T12:57:19.600Z"
   },
   {
    "duration": 0,
    "start_time": "2024-10-07T12:57:19.601Z"
   },
   {
    "duration": 0,
    "start_time": "2024-10-07T12:57:19.609Z"
   },
   {
    "duration": 15,
    "start_time": "2024-10-07T13:03:10.683Z"
   },
   {
    "duration": 6,
    "start_time": "2024-10-07T13:05:50.312Z"
   },
   {
    "duration": 350,
    "start_time": "2024-10-07T13:07:33.219Z"
   },
   {
    "duration": 2487,
    "start_time": "2024-10-07T14:16:49.091Z"
   },
   {
    "duration": 81,
    "start_time": "2024-10-07T14:16:51.580Z"
   },
   {
    "duration": 9,
    "start_time": "2024-10-07T14:16:51.662Z"
   },
   {
    "duration": 15,
    "start_time": "2024-10-07T14:16:51.674Z"
   },
   {
    "duration": 10,
    "start_time": "2024-10-07T14:16:51.691Z"
   },
   {
    "duration": 8,
    "start_time": "2024-10-07T14:16:51.703Z"
   },
   {
    "duration": 6,
    "start_time": "2024-10-07T14:16:51.712Z"
   },
   {
    "duration": 11,
    "start_time": "2024-10-07T14:16:51.719Z"
   },
   {
    "duration": 15,
    "start_time": "2024-10-07T14:16:51.732Z"
   },
   {
    "duration": 5,
    "start_time": "2024-10-07T14:16:51.750Z"
   },
   {
    "duration": 14,
    "start_time": "2024-10-07T14:16:51.757Z"
   },
   {
    "duration": 38,
    "start_time": "2024-10-07T14:16:51.773Z"
   },
   {
    "duration": 3,
    "start_time": "2024-10-07T14:16:51.813Z"
   },
   {
    "duration": 12,
    "start_time": "2024-10-07T14:16:51.818Z"
   },
   {
    "duration": 4,
    "start_time": "2024-10-07T14:16:51.831Z"
   },
   {
    "duration": 9,
    "start_time": "2024-10-07T14:16:51.837Z"
   },
   {
    "duration": 29,
    "start_time": "2024-10-07T14:16:51.847Z"
   },
   {
    "duration": 217,
    "start_time": "2024-10-07T14:16:51.878Z"
   },
   {
    "duration": 5,
    "start_time": "2024-10-07T14:16:52.097Z"
   },
   {
    "duration": 33,
    "start_time": "2024-10-07T14:16:52.103Z"
   },
   {
    "duration": 89,
    "start_time": "2024-10-07T14:16:52.138Z"
   },
   {
    "duration": 90,
    "start_time": "2024-10-07T14:16:52.229Z"
   },
   {
    "duration": 249,
    "start_time": "2024-10-07T14:16:52.320Z"
   },
   {
    "duration": 617,
    "start_time": "2024-10-07T14:16:52.571Z"
   },
   {
    "duration": 80,
    "start_time": "2024-10-07T14:16:53.190Z"
   },
   {
    "duration": 124,
    "start_time": "2024-10-07T14:16:53.272Z"
   },
   {
    "duration": 16,
    "start_time": "2024-10-07T14:16:53.397Z"
   },
   {
    "duration": 11,
    "start_time": "2024-10-07T14:16:53.417Z"
   },
   {
    "duration": 291,
    "start_time": "2024-10-07T14:16:53.429Z"
   },
   {
    "duration": 9,
    "start_time": "2024-10-07T14:16:53.721Z"
   },
   {
    "duration": 10,
    "start_time": "2024-10-07T14:16:53.731Z"
   },
   {
    "duration": 7,
    "start_time": "2024-10-07T14:16:53.742Z"
   }
  ],
  "kernelspec": {
   "display_name": "Python 3",
   "language": "python",
   "name": "python3"
  },
  "language_info": {
   "codemirror_mode": {
    "name": "ipython",
    "version": 3
   },
   "file_extension": ".py",
   "mimetype": "text/x-python",
   "name": "python",
   "nbconvert_exporter": "python",
   "pygments_lexer": "ipython3",
   "version": "3.12.7"
  },
  "toc": {
   "base_numbering": 1,
   "nav_menu": {},
   "number_sections": true,
   "sideBar": true,
   "skip_h1_title": true,
   "title_cell": "Table of Contents",
   "title_sidebar": "Contents",
   "toc_cell": false,
   "toc_position": {},
   "toc_section_display": true,
   "toc_window_display": false
  }
 },
 "nbformat": 4,
 "nbformat_minor": 2
}
